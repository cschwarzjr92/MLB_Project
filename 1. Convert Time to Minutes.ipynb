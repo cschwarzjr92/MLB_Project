{
 "cells": [
  {
   "cell_type": "markdown",
   "id": "58af9bbc-b304-401a-a7f3-ab4a5161ad67",
   "metadata": {},
   "source": [
    "# Convert Game Time Column to Minutes"
   ]
  },
  {
   "cell_type": "code",
   "execution_count": 2,
   "id": "206c8f5b-40b6-4f02-a213-a8ae4ff50424",
   "metadata": {
    "tags": []
   },
   "outputs": [],
   "source": [
    "import pandas as pd\n"
   ]
  },
  {
   "cell_type": "code",
   "execution_count": 8,
   "id": "92f96f37-e623-466b-ae3b-480c596f1985",
   "metadata": {
    "tags": []
   },
   "outputs": [],
   "source": [
    "# Load the dataset\n",
    "file_path = r'C:\\Users\\cschw\\OneDrive\\Desktop\\MLB Project\\Data Sets\\MLB Main Data One Tab.csv'\n",
    "df = pd.read_csv(file_path)\n"
   ]
  },
  {
   "cell_type": "code",
   "execution_count": 10,
   "id": "c2bfedf6-3f60-4c49-a045-c90cc2744764",
   "metadata": {
    "tags": []
   },
   "outputs": [
    {
     "name": "stdout",
     "output_type": "stream",
     "text": [
      "Columns in the DataFrame: Index(['Year', 'Team', 'W', 'L', 'W-L%', 'R', 'RA', 'Rdiff', 'Home Wins',\n",
      "       'Home Losses', 'Road Wins', 'Road Losses', '# of Batters',\n",
      "       'Avg Bat Age', 'R/G', 'G', 'PA', 'AB', 'R.1', 'H', '2B', '3B', 'HR',\n",
      "       'RBI', 'SB', 'CS', 'BB', 'SO', 'BA', 'OBP', 'SLG', 'OPS', 'OPS+', 'TB',\n",
      "       'GDP', 'HBP', 'SH', 'SF', 'IBB', 'LOB', '#P', 'Avg Pitcher Age', 'RA/G',\n",
      "       'PW', 'PL', 'PW-L%', 'ERA', 'G.1', 'GS', 'GF', 'CG', 'tSho', 'cSho',\n",
      "       'SV', 'IP', 'H.1', 'R.2', 'ER', 'HR.1', 'BB.1', 'IBB.1', 'SO.1',\n",
      "       'HBP.1', 'BK', 'WP', 'BF', 'ERA+', 'FIP', 'WHIP', 'H9', 'HR9', 'BB9',\n",
      "       'SO9', 'SO/W', 'LOB.1', 'Attendance', 'Attend/G', 'BPF', 'PPF',\n",
      "       '# of All Stars', 'Cumulative # of All Stars', 'Est. Payroll',\n",
      "       'Avg Game Time', 'Avg Game Time Min', 'City', 'State', 'League',\n",
      "       'Division', 'Region', 'All Star Rating', 'All Star Viewers',\n",
      "       'World Series Rating', 'World Series Viewers'],\n",
      "      dtype='object')\n",
      "First few rows of the DataFrame:\n",
      "   Year                  Team   W   L   W-L%    R   RA  Rdiff  Home Wins  \\\n",
      "0  2024  Arizona Diamondbacks  77  60  0.562  5.4  4.7    0.7         39   \n",
      "1  2024        Atlanta Braves  74  63  0.540  4.3  3.9    0.4         36   \n",
      "2  2024     Baltimore Orioles  79  59  0.572  5.0  4.3    0.6         39   \n",
      "3  2024        Boston Red Sox  70  67  0.511  4.8  4.7    0.1         31   \n",
      "4  2024          Chicago Cubs  71  66  0.518  4.6  4.2    0.4         36   \n",
      "\n",
      "   Home Losses  ...  Avg Game Time Min       City          State    League  \\\n",
      "0           30  ...                163    Phoenix        Arizona  National   \n",
      "1           28  ...                155    Atlanta        Georgia  National   \n",
      "2           30  ...                162  Baltimore       Maryland  American   \n",
      "3           38  ...                162     Boston  Massachusetts  American   \n",
      "4           29  ...                158    Chicago       Illinois  National   \n",
      "\n",
      "   Division     Region  All Star Rating  All Star Viewers  \\\n",
      "0      West       West              3.8         6,123,000   \n",
      "1      East      South              3.8         6,123,000   \n",
      "2      East      South              3.8         6,123,000   \n",
      "3      East  Northeast              3.8         6,123,000   \n",
      "4   Central    Midwest              3.8         6,123,000   \n",
      "\n",
      "   World Series Rating  World Series Viewers  \n",
      "0                  NaN                   NaN  \n",
      "1                  NaN                   NaN  \n",
      "2                  NaN                   NaN  \n",
      "3                  NaN                   NaN  \n",
      "4                  NaN                   NaN  \n",
      "\n",
      "[5 rows x 93 columns]\n"
     ]
    }
   ],
   "source": [
    "# Check the first few rows to confirm column names and data\n",
    "print(\"Columns in the DataFrame:\", df.columns)\n",
    "print(\"First few rows of the DataFrame:\")\n",
    "print(df.head())"
   ]
  },
  {
   "cell_type": "code",
   "execution_count": 12,
   "id": "6bb9c3e6-b0bb-4102-9b25-eee9c2f5bc03",
   "metadata": {
    "tags": []
   },
   "outputs": [],
   "source": [
    "# Define a function to convert time to minutes\n",
    "def time_to_minutes(time_str):\n",
    "    if pd.isna(time_str):  # Handle missing values\n",
    "        return None\n",
    "    try:\n",
    "        hours, minutes = map(int, time_str.split(':'))\n",
    "        return hours * 60 + minutes\n",
    "    except ValueError:\n",
    "        return None"
   ]
  },
  {
   "cell_type": "code",
   "execution_count": 14,
   "id": "92029a7b-b02e-4c6c-afed-3a9adfff90bc",
   "metadata": {
    "tags": []
   },
   "outputs": [],
   "source": [
    "\n",
    "# Apply the function to the 'Avg Game Time' column\n",
    "df['Total Minutes'] = df['Avg Game Time'].apply(time_to_minutes)"
   ]
  },
  {
   "cell_type": "code",
   "execution_count": 16,
   "id": "421fd159-d039-46d2-b7f8-dd5800eea426",
   "metadata": {
    "tags": []
   },
   "outputs": [],
   "source": [
    "# Save the results to a new CSV file\n",
    "output_file_path = r'C:\\Users\\cschw\\OneDrive\\Desktop\\MLB Project\\Data Sets\\processed_data.csv'\n",
    "df.to_csv(output_file_path, index=False)"
   ]
  },
  {
   "cell_type": "code",
   "execution_count": null,
   "id": "0d7ab557-29f8-4030-b0da-5802039cd5ff",
   "metadata": {},
   "outputs": [],
   "source": []
  }
 ],
 "metadata": {
  "kernelspec": {
   "display_name": "Python 3 (ipykernel)",
   "language": "python",
   "name": "python3"
  },
  "language_info": {
   "codemirror_mode": {
    "name": "ipython",
    "version": 3
   },
   "file_extension": ".py",
   "mimetype": "text/x-python",
   "name": "python",
   "nbconvert_exporter": "python",
   "pygments_lexer": "ipython3",
   "version": "3.11.7"
  }
 },
 "nbformat": 4,
 "nbformat_minor": 5
}
